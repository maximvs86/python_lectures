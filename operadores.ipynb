{
 "cells": [
  {
   "cell_type": "markdown",
   "metadata": {},
   "source": [
    "# Operadores"
   ]
  },
  {
   "cell_type": "markdown",
   "metadata": {},
   "source": [
    "Antes de ler esse artigo leia o artigo de variáveis. variaveis.ipynb"
   ]
  },
  {
   "cell_type": "markdown",
   "metadata": {},
   "source": [
    "## Operadores Aritmeticos (int e float):"
   ]
  },
  {
   "cell_type": "markdown",
   "metadata": {},
   "source": [
    "<ul>\n",
    "    <li>adição(<strong>+</strong>)\n",
    "</ul>"
   ]
  },
  {
   "cell_type": "markdown",
   "metadata": {},
   "source": [
    "subtração entre dois numeros inteiro ou float.\n",
    "<br>Exemplo:"
   ]
  },
  {
   "cell_type": "code",
   "execution_count": 1,
   "metadata": {},
   "outputs": [
    {
     "name": "stdout",
     "output_type": "stream",
     "text": [
      "15\n"
     ]
    }
   ],
   "source": [
    "# soma de inteiros\n",
    "numero_a = 5\n",
    "numero_b = 10\n",
    "numero_c = numero_a+numero_b\n",
    "print(numero_c)"
   ]
  },
  {
   "cell_type": "code",
   "execution_count": 2,
   "metadata": {
    "scrolled": true
   },
   "outputs": [
    {
     "name": "stdout",
     "output_type": "stream",
     "text": [
      "15.0\n"
     ]
    }
   ],
   "source": [
    "# soma de floats\n",
    "numero_a = 5.\n",
    "numero_b = 10.\n",
    "numero_c = numero_a+numero_b\n",
    "print(numero_c)"
   ]
  },
  {
   "cell_type": "markdown",
   "metadata": {},
   "source": [
    "<ul>\n",
    "<li>subtração(<strong>-</strong>)\n",
    "</ul>"
   ]
  },
  {
   "cell_type": "markdown",
   "metadata": {},
   "source": [
    "Subtração entre dois numeros inteiro ou float.\n",
    "<br>Exemplo:"
   ]
  },
  {
   "cell_type": "code",
   "execution_count": 3,
   "metadata": {
    "scrolled": true
   },
   "outputs": [
    {
     "name": "stdout",
     "output_type": "stream",
     "text": [
      "-5\n"
     ]
    }
   ],
   "source": [
    "# subtracao de inteiros\n",
    "numero_a = 5\n",
    "numero_b = 10\n",
    "numero_c = numero_a-numero_b\n",
    "print(numero_c)"
   ]
  },
  {
   "cell_type": "code",
   "execution_count": 4,
   "metadata": {},
   "outputs": [
    {
     "name": "stdout",
     "output_type": "stream",
     "text": [
      "-5.0\n"
     ]
    }
   ],
   "source": [
    "# subtracao de float\n",
    "numero_a = 5.\n",
    "numero_b = 10.\n",
    "numero_c = numero_a-numero_b\n",
    "print(numero_c)"
   ]
  },
  {
   "cell_type": "markdown",
   "metadata": {},
   "source": [
    "<ul>\n",
    "<li>multiplicação(<strong>*</strong>)\n",
    "</ul>"
   ]
  },
  {
   "cell_type": "markdown",
   "metadata": {},
   "source": [
    "Multiplicação entre dois numeros inteiro ou float.\n",
    "<br>Exemplo:"
   ]
  },
  {
   "cell_type": "code",
   "execution_count": 5,
   "metadata": {},
   "outputs": [
    {
     "name": "stdout",
     "output_type": "stream",
     "text": [
      "50\n"
     ]
    }
   ],
   "source": [
    "numero_a = 5\n",
    "numero_b = 10\n",
    "numero_c = numero_a*numero_b\n",
    "print(numero_c)"
   ]
  },
  {
   "cell_type": "code",
   "execution_count": 6,
   "metadata": {},
   "outputs": [
    {
     "name": "stdout",
     "output_type": "stream",
     "text": [
      "50.0\n"
     ]
    }
   ],
   "source": [
    "numero_a = 5.\n",
    "numero_b = 10.\n",
    "numero_c = numero_a*numero_b\n",
    "print(numero_c)"
   ]
  },
  {
   "cell_type": "markdown",
   "metadata": {},
   "source": [
    "<ul>\n",
    "    <li>divisão inteira(<strong>//</strong>)\n",
    "</ul>"
   ]
  },
  {
   "cell_type": "markdown",
   "metadata": {},
   "source": [
    "divisão inteira entre dois numeros inteiro ou float, retorna o valor máximo da divisão exata valores posteriores ao ponto são desconsiderados.\n",
    "Exemplo:"
   ]
  },
  {
   "cell_type": "code",
   "execution_count": 7,
   "metadata": {},
   "outputs": [
    {
     "name": "stdout",
     "output_type": "stream",
     "text": [
      "1\n"
     ]
    }
   ],
   "source": [
    "numero_a = 12\n",
    "numero_b = 10\n",
    "numero_c = numero_a//numero_b\n",
    "print(numero_c)"
   ]
  },
  {
   "cell_type": "code",
   "execution_count": 8,
   "metadata": {},
   "outputs": [
    {
     "name": "stdout",
     "output_type": "stream",
     "text": [
      "1.0\n"
     ]
    }
   ],
   "source": [
    "numero_a = 12.\n",
    "numero_b = 10.\n",
    "numero_c = numero_a//numero_b\n",
    "print(numero_c)"
   ]
  },
  {
   "cell_type": "markdown",
   "metadata": {},
   "source": [
    "<ul>\n",
    "    <li>Resto da divisão (<strong>%</strong>)\n",
    "</ul>"
   ]
  },
  {
   "cell_type": "code",
   "execution_count": 9,
   "metadata": {},
   "outputs": [
    {
     "name": "stdout",
     "output_type": "stream",
     "text": [
      "0\n"
     ]
    }
   ],
   "source": [
    "numero_a = 10\n",
    "numero_b = 10\n",
    "numero_c = numero_a%numero_b\n",
    "print(numero_c)"
   ]
  },
  {
   "cell_type": "code",
   "execution_count": 10,
   "metadata": {},
   "outputs": [
    {
     "name": "stdout",
     "output_type": "stream",
     "text": [
      "2\n"
     ]
    }
   ],
   "source": [
    "numero_a = 12\n",
    "numero_b = 10\n",
    "numero_c = numero_a%numero_b\n",
    "print(numero_c)"
   ]
  },
  {
   "cell_type": "markdown",
   "metadata": {},
   "source": [
    "<ul>\n",
    "<li> divisão(<strong>/</strong>)\n",
    "</ul>"
   ]
  },
  {
   "cell_type": "markdown",
   "metadata": {},
   "source": [
    "divisão real entre dois numeros inteiro ou float, retorna somente o valor real(float) da divisão.\n",
    "<br> Exemplo:"
   ]
  },
  {
   "cell_type": "code",
   "execution_count": 11,
   "metadata": {},
   "outputs": [
    {
     "name": "stdout",
     "output_type": "stream",
     "text": [
      "0.5\n"
     ]
    }
   ],
   "source": [
    "numero_a = 5\n",
    "numero_b = 10\n",
    "numero_c = numero_a/numero_b\n",
    "print(numero_c)"
   ]
  },
  {
   "cell_type": "code",
   "execution_count": 12,
   "metadata": {},
   "outputs": [
    {
     "name": "stdout",
     "output_type": "stream",
     "text": [
      "0.5\n"
     ]
    }
   ],
   "source": [
    "numero_a = 5.\n",
    "numero_b = 10.\n",
    "numero_c = numero_a/numero_b\n",
    "print(numero_c)"
   ]
  },
  {
   "cell_type": "markdown",
   "metadata": {},
   "source": [
    "<ul>\n",
    "<li> potenciação (<strong>**</strong>)\n",
    "</ul>"
   ]
  },
  {
   "cell_type": "markdown",
   "metadata": {},
   "source": [
    "potenciação de dois numeros inteiro ou float.\n",
    "<br>Exemplos:"
   ]
  },
  {
   "cell_type": "code",
   "execution_count": 13,
   "metadata": {},
   "outputs": [
    {
     "name": "stdout",
     "output_type": "stream",
     "text": [
      "25\n"
     ]
    }
   ],
   "source": [
    "numero_a = 5\n",
    "numero_b = 2\n",
    "numero_c = numero_a**numero_b\n",
    "print(numero_c)"
   ]
  },
  {
   "cell_type": "code",
   "execution_count": 14,
   "metadata": {
    "scrolled": true
   },
   "outputs": [
    {
     "name": "stdout",
     "output_type": "stream",
     "text": [
      "25.0\n"
     ]
    }
   ],
   "source": [
    "numero_a = 5.\n",
    "numero_b = 2.\n",
    "numero_c = numero_a**numero_b\n",
    "print(numero_c)"
   ]
  },
  {
   "cell_type": "markdown",
   "metadata": {},
   "source": [
    "Obs.: Operações mistas entre inteiros e float retornaram valores float."
   ]
  },
  {
   "cell_type": "markdown",
   "metadata": {},
   "source": [
    "### Operadores de atribuição:"
   ]
  },
  {
   "cell_type": "markdown",
   "metadata": {},
   "source": [
    "Definição são operadores que atuam diretamente na propria variavel, antes de utilizar os operadores de atribuição é necessario ter certeza de que a variavel já foi definida anteriormente.\n",
    "<br>Exemplo:"
   ]
  },
  {
   "cell_type": "code",
   "execution_count": 15,
   "metadata": {
    "scrolled": false
   },
   "outputs": [
    {
     "name": "stdout",
     "output_type": "stream",
     "text": [
      "2\n"
     ]
    }
   ],
   "source": [
    "numero = 1\n",
    "numero +=1\n",
    "print(numero)"
   ]
  },
  {
   "cell_type": "markdown",
   "metadata": {},
   "source": [
    "No exemplo acima:\n",
    "<ul>\n",
    "<li> Foi declarado uma variável \"<strong>numero</strong>\" com o valor de <strong>1</strong>;\n",
    "<li> depois foi atribuido o valor de 1 a <strong>numero</strong>, <strong>numero</strong> agora está com o valor de 2;\n",
    "    <li> impresão do valor do <strong>numero</strong>.\n",
    "</ul>"
   ]
  },
  {
   "cell_type": "markdown",
   "metadata": {},
   "source": [
    "### Exemplos de operações de atribuição:"
   ]
  },
  {
   "cell_type": "markdown",
   "metadata": {},
   "source": [
    "<ul>\n",
    "    <li>adição(<strong>+=</strong>)\n",
    "</ul>"
   ]
  },
  {
   "cell_type": "code",
   "execution_count": 16,
   "metadata": {},
   "outputs": [
    {
     "name": "stdout",
     "output_type": "stream",
     "text": [
      "3\n"
     ]
    }
   ],
   "source": [
    "# soma de inteiros\n",
    "numero = 1\n",
    "numero += 2\n",
    "print(numero)"
   ]
  },
  {
   "cell_type": "code",
   "execution_count": 17,
   "metadata": {},
   "outputs": [
    {
     "name": "stdout",
     "output_type": "stream",
     "text": [
      "3.0\n"
     ]
    }
   ],
   "source": [
    "# soma de float\n",
    "numero = 1.\n",
    "numero += 2.\n",
    "print(numero)"
   ]
  },
  {
   "cell_type": "markdown",
   "metadata": {},
   "source": [
    "<ul>\n",
    "    <li>subtração(<strong>-=</strong>)\n",
    "</ul>"
   ]
  },
  {
   "cell_type": "code",
   "execution_count": 18,
   "metadata": {},
   "outputs": [
    {
     "name": "stdout",
     "output_type": "stream",
     "text": [
      "-1\n"
     ]
    }
   ],
   "source": [
    "# soma de inteiros\n",
    "numero = 1\n",
    "numero -= 2\n",
    "print(numero)"
   ]
  },
  {
   "cell_type": "code",
   "execution_count": 19,
   "metadata": {},
   "outputs": [
    {
     "name": "stdout",
     "output_type": "stream",
     "text": [
      "-1.0\n"
     ]
    }
   ],
   "source": [
    "# soma de float\n",
    "numero = 1.\n",
    "numero -= 2.\n",
    "print(numero)"
   ]
  },
  {
   "cell_type": "markdown",
   "metadata": {},
   "source": [
    "<ul>\n",
    "<li>multiplicação(<strong>*=</strong>)\n",
    "</ul>"
   ]
  },
  {
   "cell_type": "code",
   "execution_count": 20,
   "metadata": {},
   "outputs": [
    {
     "name": "stdout",
     "output_type": "stream",
     "text": [
      "6\n"
     ]
    }
   ],
   "source": [
    "# soma de inteiros\n",
    "numero = 2\n",
    "numero *= 3\n",
    "print(numero)"
   ]
  },
  {
   "cell_type": "code",
   "execution_count": 21,
   "metadata": {},
   "outputs": [
    {
     "name": "stdout",
     "output_type": "stream",
     "text": [
      "6.0\n"
     ]
    }
   ],
   "source": [
    "# soma de float\n",
    "numero = 2.\n",
    "numero *= 3.\n",
    "print(numero)"
   ]
  },
  {
   "cell_type": "markdown",
   "metadata": {},
   "source": [
    "<ul>\n",
    "    <li>divisão inteira(<strong>//=</strong>)\n",
    "</ul>"
   ]
  },
  {
   "cell_type": "code",
   "execution_count": 22,
   "metadata": {},
   "outputs": [
    {
     "name": "stdout",
     "output_type": "stream",
     "text": [
      "2\n"
     ]
    }
   ],
   "source": [
    "# soma de inteiros\n",
    "numero = 7\n",
    "numero //= 3\n",
    "print(numero)"
   ]
  },
  {
   "cell_type": "code",
   "execution_count": 23,
   "metadata": {},
   "outputs": [
    {
     "name": "stdout",
     "output_type": "stream",
     "text": [
      "2.0\n"
     ]
    }
   ],
   "source": [
    "# soma de float\n",
    "numero = 7.\n",
    "numero //= 3.\n",
    "print(numero)"
   ]
  },
  {
   "cell_type": "markdown",
   "metadata": {},
   "source": [
    "<ul>\n",
    "<li> divisão(<strong>/=</strong>)\n",
    "</ul>"
   ]
  },
  {
   "cell_type": "code",
   "execution_count": 24,
   "metadata": {},
   "outputs": [
    {
     "name": "stdout",
     "output_type": "stream",
     "text": [
      "2.3333333333333335\n"
     ]
    }
   ],
   "source": [
    "# soma de inteiros\n",
    "numero = 7\n",
    "numero /= 3\n",
    "print(numero)"
   ]
  },
  {
   "cell_type": "code",
   "execution_count": 25,
   "metadata": {},
   "outputs": [
    {
     "name": "stdout",
     "output_type": "stream",
     "text": [
      "2.3333333333333335\n"
     ]
    }
   ],
   "source": [
    "# soma de float\n",
    "numero = 7.\n",
    "numero /= 3.\n",
    "print(numero)"
   ]
  },
  {
   "cell_type": "markdown",
   "metadata": {},
   "source": [
    "<ul>\n",
    "<li> potenciação (<strong>**=</strong>)\n",
    "</ul>"
   ]
  },
  {
   "cell_type": "code",
   "execution_count": 26,
   "metadata": {},
   "outputs": [
    {
     "name": "stdout",
     "output_type": "stream",
     "text": [
      "27\n"
     ]
    }
   ],
   "source": [
    "# soma de inteiros\n",
    "numero = 3\n",
    "numero **= 3\n",
    "print(numero)"
   ]
  },
  {
   "cell_type": "code",
   "execution_count": 27,
   "metadata": {},
   "outputs": [
    {
     "name": "stdout",
     "output_type": "stream",
     "text": [
      "27.0\n"
     ]
    }
   ],
   "source": [
    "# soma de float\n",
    "numero = 3.\n",
    "numero **= 3.\n",
    "print(numero)"
   ]
  },
  {
   "cell_type": "markdown",
   "metadata": {},
   "source": [
    "## Equivalencia entre operações comuns e operaões com atribuição"
   ]
  },
  {
   "cell_type": "markdown",
   "metadata": {},
   "source": [
    "Obs.: essas operações podem ser feitas de maneira similar sem a necessidade de desses operadores."
   ]
  },
  {
   "cell_type": "code",
   "execution_count": 28,
   "metadata": {},
   "outputs": [
    {
     "name": "stdout",
     "output_type": "stream",
     "text": [
      "2\n"
     ]
    }
   ],
   "source": [
    "numero = 1\n",
    "numero +=1\n",
    "print(numero)"
   ]
  },
  {
   "cell_type": "markdown",
   "metadata": {},
   "source": [
    "É equivalente a:"
   ]
  },
  {
   "cell_type": "code",
   "execution_count": 29,
   "metadata": {},
   "outputs": [
    {
     "name": "stdout",
     "output_type": "stream",
     "text": [
      "2\n"
     ]
    }
   ],
   "source": [
    "numero = 1\n",
    "numero = numero + 1\n",
    "print(numero)"
   ]
  },
  {
   "cell_type": "markdown",
   "metadata": {},
   "source": [
    "## Operadores de comparação:"
   ]
  },
  {
   "cell_type": "markdown",
   "metadata": {},
   "source": [
    "Definição: basicamente servem para fazer comparações entre valores entre duas variaveis, retornando o resultado da afirmação sendo verdadeira(**True**) ou falsa(**False**). Esse conseito é muito util na implementção de extruturas condicionais."
   ]
  },
  {
   "cell_type": "markdown",
   "metadata": {},
   "source": [
    "**Operador de comparação de quivalencia(==):**\n",
    "<br>compara se os valores das variaveis são equivalentes."
   ]
  },
  {
   "cell_type": "code",
   "execution_count": 30,
   "metadata": {
    "scrolled": true
   },
   "outputs": [
    {
     "name": "stdout",
     "output_type": "stream",
     "text": [
      "True\n"
     ]
    }
   ],
   "source": [
    "numero_a = 1\n",
    "numero_b = 1\n",
    "resultado = numero_a==numero_b\n",
    "print(resultado)"
   ]
  },
  {
   "cell_type": "code",
   "execution_count": 31,
   "metadata": {},
   "outputs": [
    {
     "name": "stdout",
     "output_type": "stream",
     "text": [
      "False\n"
     ]
    }
   ],
   "source": [
    "numero_a = 1\n",
    "numero_b = 2\n",
    "resultado = numero_a==numero_b\n",
    "print(resultado)"
   ]
  },
  {
   "cell_type": "markdown",
   "metadata": {},
   "source": [
    "**Operador de comparação maior(>):**\n",
    "<br>compara se o valor a esquerda é maior do que o da direita."
   ]
  },
  {
   "cell_type": "code",
   "execution_count": 32,
   "metadata": {},
   "outputs": [
    {
     "name": "stdout",
     "output_type": "stream",
     "text": [
      "False\n"
     ]
    }
   ],
   "source": [
    "numero_a = 1\n",
    "numero_b = 1\n",
    "resultado = numero_a>numero_b\n",
    "print(resultado)"
   ]
  },
  {
   "cell_type": "code",
   "execution_count": 33,
   "metadata": {},
   "outputs": [
    {
     "name": "stdout",
     "output_type": "stream",
     "text": [
      "True\n"
     ]
    }
   ],
   "source": [
    "numero_a = 2\n",
    "numero_b = 1\n",
    "resultado = numero_a>numero_b\n",
    "print(resultado)"
   ]
  },
  {
   "cell_type": "markdown",
   "metadata": {},
   "source": [
    "**Operador de comparação menor(<):**\n",
    "<br>compara se os valores das variaveis são equivalentes."
   ]
  },
  {
   "cell_type": "code",
   "execution_count": 34,
   "metadata": {},
   "outputs": [
    {
     "name": "stdout",
     "output_type": "stream",
     "text": [
      "False\n"
     ]
    }
   ],
   "source": [
    "numero_a = 1\n",
    "numero_b = 1\n",
    "resultado = numero_a<numero_b\n",
    "print(resultado)"
   ]
  },
  {
   "cell_type": "code",
   "execution_count": 35,
   "metadata": {},
   "outputs": [
    {
     "name": "stdout",
     "output_type": "stream",
     "text": [
      "True\n"
     ]
    }
   ],
   "source": [
    "numero_a = 0\n",
    "numero_b = 1\n",
    "resultado = numero_a<numero_b\n",
    "print(resultado)"
   ]
  },
  {
   "cell_type": "markdown",
   "metadata": {},
   "source": [
    "**Operador de comparação maior igual(>=):**\n",
    "<br>compara se os valores das variaveis são equivalentes ou maior."
   ]
  },
  {
   "cell_type": "code",
   "execution_count": 36,
   "metadata": {},
   "outputs": [
    {
     "name": "stdout",
     "output_type": "stream",
     "text": [
      "True\n"
     ]
    }
   ],
   "source": [
    "numero_a = 2\n",
    "numero_b = 1\n",
    "resultado = numero_a>=numero_b\n",
    "print(resultado)"
   ]
  },
  {
   "cell_type": "code",
   "execution_count": 37,
   "metadata": {},
   "outputs": [
    {
     "name": "stdout",
     "output_type": "stream",
     "text": [
      "True\n"
     ]
    }
   ],
   "source": [
    "numero_a = 1\n",
    "numero_b = 1\n",
    "resultado = numero_a>=numero_b\n",
    "print(resultado)"
   ]
  },
  {
   "cell_type": "code",
   "execution_count": 38,
   "metadata": {},
   "outputs": [
    {
     "name": "stdout",
     "output_type": "stream",
     "text": [
      "False\n"
     ]
    }
   ],
   "source": [
    "numero_a = 1\n",
    "numero_b = 2\n",
    "resultado = numero_a>=numero_b\n",
    "print(resultado)"
   ]
  },
  {
   "cell_type": "markdown",
   "metadata": {},
   "source": [
    "**Operador de comparação menor igual(<=):**\n",
    "<br>compara se os valores das variaveis são equivalentes ou menor."
   ]
  },
  {
   "cell_type": "code",
   "execution_count": 39,
   "metadata": {},
   "outputs": [
    {
     "name": "stdout",
     "output_type": "stream",
     "text": [
      "True\n"
     ]
    }
   ],
   "source": [
    "numero_a = 1\n",
    "numero_b = 1\n",
    "resultado = numero_a<=numero_b\n",
    "print(resultado)"
   ]
  },
  {
   "cell_type": "code",
   "execution_count": 40,
   "metadata": {},
   "outputs": [
    {
     "name": "stdout",
     "output_type": "stream",
     "text": [
      "True\n"
     ]
    }
   ],
   "source": [
    "numero_a = 1\n",
    "numero_b = 2\n",
    "resultado = numero_a<=numero_b\n",
    "print(resultado)"
   ]
  },
  {
   "cell_type": "code",
   "execution_count": 41,
   "metadata": {},
   "outputs": [
    {
     "name": "stdout",
     "output_type": "stream",
     "text": [
      "False\n"
     ]
    }
   ],
   "source": [
    "numero_a = 2\n",
    "numero_b = 1\n",
    "resultado = numero_a<=numero_b\n",
    "print(resultado)"
   ]
  },
  {
   "cell_type": "markdown",
   "metadata": {},
   "source": [
    "**Operador de comparação de diferente(!=):**\n",
    "<br>compara se os valores das variaveis não são equivalentes ou melhor se são diferentes."
   ]
  },
  {
   "cell_type": "code",
   "execution_count": 42,
   "metadata": {},
   "outputs": [
    {
     "name": "stdout",
     "output_type": "stream",
     "text": [
      "True\n"
     ]
    }
   ],
   "source": [
    "numero_a = 2\n",
    "numero_b = 1\n",
    "resultado = numero_a!=numero_b\n",
    "print(resultado)"
   ]
  },
  {
   "cell_type": "code",
   "execution_count": 43,
   "metadata": {},
   "outputs": [
    {
     "name": "stdout",
     "output_type": "stream",
     "text": [
      "False\n"
     ]
    }
   ],
   "source": [
    "numero_a = 1\n",
    "numero_b = 1\n",
    "resultado = numero_a!=numero_b\n",
    "print(resultado)"
   ]
  },
  {
   "cell_type": "markdown",
   "metadata": {},
   "source": [
    "**Warning!!!**"
   ]
  },
  {
   "cell_type": "markdown",
   "metadata": {},
   "source": [
    "Obs.: **True** e **False** são nomes reservados do python True e False significam variaveis do tipo boleano, vide o arquivo de variaveis.ipynb"
   ]
  },
  {
   "cell_type": "markdown",
   "metadata": {},
   "source": [
    "Obs.: Não confunda o operador de quivalencia (**==**) com o operador de atribuição de valor a variavel (**=**), se for confundido você não fará a comparação, mas sobrescreverá a variavel com um novo valor."
   ]
  },
  {
   "cell_type": "markdown",
   "metadata": {},
   "source": [
    "## Operações com Strings:"
   ]
  },
  {
   "cell_type": "markdown",
   "metadata": {},
   "source": [
    "-  **concatenador(+):**"
   ]
  },
  {
   "cell_type": "code",
   "execution_count": 44,
   "metadata": {
    "scrolled": true
   },
   "outputs": [
    {
     "name": "stdout",
     "output_type": "stream",
     "text": [
      "quadradoretangulo\n"
     ]
    }
   ],
   "source": [
    "palavra_a = 'quadrado'\n",
    "palavra_b = 'retangulo'\n",
    "palavra_c = palavra_a+palavra_b\n",
    "print(palavra_c)"
   ]
  },
  {
   "cell_type": "markdown",
   "metadata": {},
   "source": [
    "- **concatenador por atribuição(+=):**"
   ]
  },
  {
   "cell_type": "code",
   "execution_count": 45,
   "metadata": {},
   "outputs": [
    {
     "name": "stdout",
     "output_type": "stream",
     "text": [
      "quadradoretangulo\n"
     ]
    }
   ],
   "source": [
    "palavra_a = 'quadrado'\n",
    "palavra_b = 'retangulo'\n",
    "palavra_a += palavra_b\n",
    "print(palavra_a)"
   ]
  },
  {
   "cell_type": "markdown",
   "metadata": {},
   "source": [
    "<ul>\n",
    "<li><strong>comparador de equivalência(==):</strong>\n",
    "</ul>\n",
    "<br> verifica se cada caracter pertencente ao string são equivalentes levando em conta a posição também.\n",
    "<br>exemplo:"
   ]
  },
  {
   "cell_type": "code",
   "execution_count": 46,
   "metadata": {
    "scrolled": true
   },
   "outputs": [
    {
     "name": "stdout",
     "output_type": "stream",
     "text": [
      "True\n"
     ]
    }
   ],
   "source": [
    "palavra_a = 'quadrado'\n",
    "palavra_b = 'quadrado'\n",
    "resultado = palavra_a == palavra_b\n",
    "print(resultado)"
   ]
  },
  {
   "cell_type": "code",
   "execution_count": 47,
   "metadata": {},
   "outputs": [
    {
     "name": "stdout",
     "output_type": "stream",
     "text": [
      "False\n"
     ]
    }
   ],
   "source": [
    "palavra_a = 'quadrado'\n",
    "palavra_b = 'retangulo'\n",
    "resultado = palavra_a == palavra_b\n",
    "print(resultado)"
   ]
  },
  {
   "cell_type": "code",
   "execution_count": 48,
   "metadata": {},
   "outputs": [
    {
     "name": "stdout",
     "output_type": "stream",
     "text": [
      "False\n"
     ]
    }
   ],
   "source": [
    "palavra_a = 'quadrado'\n",
    "palavra_b = 'Quadrado'\n",
    "resultado = palavra_a == palavra_b\n",
    "print(resultado)"
   ]
  },
  {
   "cell_type": "markdown",
   "metadata": {},
   "source": [
    "<ul>\n",
    "<li><strong>comparador de diferenca(!=):</strong>\n",
    "</ul>\n",
    "<br> verifica se cada caracter pertencente ao string são diferentes levando em conta a posição também."
   ]
  },
  {
   "cell_type": "code",
   "execution_count": 49,
   "metadata": {},
   "outputs": [
    {
     "name": "stdout",
     "output_type": "stream",
     "text": [
      "False\n"
     ]
    }
   ],
   "source": [
    "palavra_a = 'quadrado'\n",
    "palavra_b = 'quadrado'\n",
    "resultado = palavra_a != palavra_b\n",
    "print(resultado)"
   ]
  },
  {
   "cell_type": "code",
   "execution_count": 50,
   "metadata": {},
   "outputs": [
    {
     "name": "stdout",
     "output_type": "stream",
     "text": [
      "True\n"
     ]
    }
   ],
   "source": [
    "palavra_a = 'quadrado'\n",
    "palavra_b = 'retangulo'\n",
    "resultado = palavra_a != palavra_b\n",
    "print(resultado)"
   ]
  },
  {
   "cell_type": "code",
   "execution_count": 51,
   "metadata": {
    "scrolled": true
   },
   "outputs": [
    {
     "name": "stdout",
     "output_type": "stream",
     "text": [
      "True\n"
     ]
    }
   ],
   "source": [
    "palavra_a = 'quadrado'\n",
    "palavra_b = 'Quadrado'\n",
    "resultado = palavra_a != palavra_b\n",
    "print(resultado)"
   ]
  },
  {
   "cell_type": "markdown",
   "metadata": {},
   "source": [
    "Obs.: leve em consideração que os operadores verificam diferenças entre letras maiusculas e minusculas, outra caracteristica é que existem caracteres especiais que podem parecer equivalentes porem eles tem um código diferente e o operador leva isso em consideração também."
   ]
  },
  {
   "cell_type": "markdown",
   "metadata": {},
   "source": [
    "# Resumo"
   ]
  },
  {
   "cell_type": "markdown",
   "metadata": {},
   "source": [
    "<ul>\n",
    "<li><strong>Operadores aritméticos: </strong>\n",
    "</ul>\n",
    "<br> a =10\n",
    "<br> b =20"
   ]
  },
  {
   "cell_type": "markdown",
   "metadata": {},
   "source": [
    "<table class=\"table table-bordered\">\n",
    "<tbody><tr>\n",
    "<th style=\"text-align:center;width:10%\">Operador</th>\n",
    "<th style=\"text-align:center;width:45%\">Descrição</th>\n",
    "<th style=\"text-align:center;\">Exemplo</th>\n",
    "</tr>\n",
    "<tr>\n",
    "<td class=\"ts\">+</td>\n",
    "<td>Adição</td>\n",
    "<td class=\"ts\">a + b = 30</td>\n",
    "</tr>\n",
    "<tr>\n",
    "<td class=\"ts\">-</td>\n",
    "<td>Subtração </td>\n",
    "<td class=\"ts\">a – b = -10</td>\n",
    "</tr>\n",
    "<tr>\n",
    "<td class=\"ts\">*</td>\n",
    "<td>Multiplicação</td>\n",
    "<td class=\"ts\">a * b = 200</td>\n",
    "</tr>\n",
    "<tr>\n",
    "<td class=\"ts\">/ </td>\n",
    "<td>Divisão</td>\n",
    "<td class=\"ts\">b / a = 2</td>\n",
    "</tr>\n",
    "<tr>\n",
    "<td class=\"ts\">%</td>\n",
    "<td>Modulo(Resto)</td>\n",
    "<td class=\"ts\">b % a = 0</td>\n",
    "</tr>\n",
    "<tr>\n",
    "<td class=\"ts\">**</td>\n",
    "<td>Exponenciação</td>\n",
    "<td class=\"ts\">a**b =10 to the power 20</td>\n",
    "</tr>\n",
    "<tr>\n",
    "<td class=\"ts\">//</td>\n",
    "<td> Divisão inteira</td>\n",
    "<td class=\"ts\">9//2 = 4 and 9.0//2.0 = 4.0, -11//3 = -4, -11.0//3 = -4.0</td>\n",
    "</tr>\n",
    "</tbody>"
   ]
  },
  {
   "cell_type": "markdown",
   "metadata": {},
   "source": [
    "<ul>\n",
    "<li><strong>Operadores de comparação: </strong>\n",
    "</ul>\n",
    "<br> a =10\n",
    "<br> b =20"
   ]
  },
  {
   "cell_type": "markdown",
   "metadata": {},
   "source": [
    "<table class=\"table table-bordered\">\n",
    "<tbody><tr>\n",
    "<th style=\"text-align:center;width:10%\">Operador</th>\n",
    "<th style=\"text-align:center;width:45%\">Descrição</th>\n",
    "<th style=\"text-align:center;\">Exemplo</th>\n",
    "</tr>\n",
    "<tr>\n",
    "<td class=\"ts\">==</td>\n",
    "<td>equivalente a </td>\n",
    "<td class=\"ts\">(a == b) is not true.</td>\n",
    "</tr>\n",
    "<tr>\n",
    "<td class=\"ts\">!=</td>\n",
    "<td>diferente de </td>\n",
    "<td class=\"ts\">(a != b) is true.</td>\n",
    "</tr>\n",
    "<td class=\"ts\">&gt;</td>\n",
    "<td>maior</td>\n",
    "<td class=\"ts\">(a &gt; b) is not true.</td>\n",
    "</tr>\n",
    "<tr>\n",
    "<td class=\"ts\">&lt;</td>\n",
    "<td>menor</td>\n",
    "<td class=\"ts\">(a &lt; b) is true.</td>\n",
    "</tr>\n",
    "<tr>\n",
    "<td class=\"ts\">&gt;=</td>\n",
    "<td>menor igual</td>\n",
    "<td class=\"ts\">(a &gt;= b) is not true.</td>\n",
    "</tr>\n",
    "<tr>\n",
    "<td class=\"ts\">&lt;=</td>\n",
    "<td>maior igual</td>\n",
    "<td class=\"ts\">(a &lt;= b) is true.</td>\n",
    "</tr>\n",
    "</tbody></table>"
   ]
  },
  {
   "cell_type": "markdown",
   "metadata": {},
   "source": [
    "Tabelas traduzidas de :https://www.tutorialspoint.com/python/python_basic_operators.htm"
   ]
  },
  {
   "cell_type": "markdown",
   "metadata": {},
   "source": [
    "# Referências"
   ]
  },
  {
   "cell_type": "markdown",
   "metadata": {},
   "source": [
    "<strong>Em português</strong>\n",
    "<br>blog sobre operadores aritméticos mínimos:\n",
    "<br> http://excript.com/python/operador-aritmetico-em-python.html\n",
    "<br>blog sobre comparadores mínimos:\n",
    "<br> http://excript.com/python/operadores-logicos-python.html\n",
    "<br>\n",
    "<strong>Em inglês</strong>\n",
    "<br>Operadores basicos:\n",
    "<br> https://www.tutorialspoint.com/python/python_basic_operators.htm\n",
    "<br>Operadores padrões do python e como definir novos:\n",
    "<br> https://docs.python.org/3.4/library/operator.html"
   ]
  }
 ],
 "metadata": {
  "kernelspec": {
   "display_name": "Python 3",
   "language": "python",
   "name": "python3"
  },
  "language_info": {
   "codemirror_mode": {
    "name": "ipython",
    "version": 3
   },
   "file_extension": ".py",
   "mimetype": "text/x-python",
   "name": "python",
   "nbconvert_exporter": "python",
   "pygments_lexer": "ipython3",
   "version": "3.7.4"
  }
 },
 "nbformat": 4,
 "nbformat_minor": 4
}
